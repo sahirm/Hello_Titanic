{
 "cells": [
  {
   "cell_type": "markdown",
   "metadata": {},
   "source": [
    "The Titanic Kaggle Competition is the opening project to start. So just to say I've done it, here it is. Just a quick run through of the competition.\n",
    "\n",
    "Double hashtags are explanative test and single hashtags are code"
   ]
  },
  {
   "cell_type": "markdown",
   "metadata": {},
   "source": [
    "## Initial Data Import"
   ]
  },
  {
   "cell_type": "code",
   "execution_count": 91,
   "metadata": {
    "collapsed": false
   },
   "outputs": [],
   "source": [
    "## Libraries\n",
    "\n",
    "import numpy as np\n",
    "import pandas as pd\n",
    "import matplotlib.pyplot as plt\n",
    "import seaborn as sns\n",
    "\n",
    "\n",
    "## Scikit-Learn\n",
    "\n",
    "from sklearn.ensemble import ExtraTreesClassifier\n",
    "from sklearn.feature_selection import SelectFromModel\n",
    "\n",
    "from sklearn.model_selection import cross_val_score\n",
    "from sklearn.tree import DecisionTreeClassifier\n",
    "from sklearn.ensemble import RandomForestClassifier\n",
    "from sklearn.ensemble import AdaBoostClassifier\n",
    "from sklearn.linear_model import LogisticRegression\n",
    "from sklearn.linear_model import LinearRegression\n",
    "from sklearn.svm import SVR\n",
    "from sklearn.neighbors import KNeighborsClassifier"
   ]
  },
  {
   "cell_type": "code",
   "execution_count": 2,
   "metadata": {
    "collapsed": false
   },
   "outputs": [],
   "source": [
    "## Import Data\n",
    "\n",
    "train = pd.read_csv(\"./data/train.csv\")\n",
    "test = pd.read_csv(\"./data/test.csv\")"
   ]
  },
  {
   "cell_type": "code",
   "execution_count": 3,
   "metadata": {
    "collapsed": false
   },
   "outputs": [],
   "source": [
    "## We run into a practical vs theoretical conflict\n",
    "## The test data should always stay dark but\n",
    "## the data should be manipulated together and consistently\n",
    "\n",
    "unsplit_data = train.append(test, ignore_index=True)\n",
    "\n",
    "## We can find test data with the below code\n",
    "## Just look for where we haven't given died or survived value.\n",
    "\n",
    "# np.where(unsplit_data['Survived'].isnull())[0]"
   ]
  },
  {
   "cell_type": "markdown",
   "metadata": {},
   "source": [
    "## Initial Exploration"
   ]
  },
  {
   "cell_type": "markdown",
   "metadata": {},
   "source": [
    "We have missing data and have to fill it in. We can also see that we have 418 rows that are our test data"
   ]
  },
  {
   "cell_type": "code",
   "execution_count": 4,
   "metadata": {
    "collapsed": false,
    "scrolled": true
   },
   "outputs": [
    {
     "data": {
      "text/plain": [
       "Age             263\n",
       "Cabin          1014\n",
       "Embarked          2\n",
       "Fare              1\n",
       "Name              0\n",
       "Parch             0\n",
       "PassengerId       0\n",
       "Pclass            0\n",
       "Sex               0\n",
       "SibSp             0\n",
       "Survived        418\n",
       "Ticket            0\n",
       "dtype: int64"
      ]
     },
     "execution_count": 4,
     "metadata": {},
     "output_type": "execute_result"
    }
   ],
   "source": [
    "unsplit_data.isnull().sum()"
   ]
  },
  {
   "cell_type": "markdown",
   "metadata": {},
   "source": [
    "In order to get a sense of the data, we can look at some basic summary statistics. But keeping in mind that having empty values will shift the values"
   ]
  },
  {
   "cell_type": "code",
   "execution_count": 5,
   "metadata": {
    "collapsed": false
   },
   "outputs": [
    {
     "data": {
      "text/html": [
       "<div>\n",
       "<table border=\"1\" class=\"dataframe\">\n",
       "  <thead>\n",
       "    <tr style=\"text-align: right;\">\n",
       "      <th></th>\n",
       "      <th>PassengerId</th>\n",
       "      <th>Survived</th>\n",
       "      <th>Pclass</th>\n",
       "      <th>Age</th>\n",
       "      <th>SibSp</th>\n",
       "      <th>Parch</th>\n",
       "      <th>Fare</th>\n",
       "    </tr>\n",
       "  </thead>\n",
       "  <tbody>\n",
       "    <tr>\n",
       "      <th>count</th>\n",
       "      <td>183.000000</td>\n",
       "      <td>183.000000</td>\n",
       "      <td>183.000000</td>\n",
       "      <td>183.000000</td>\n",
       "      <td>183.000000</td>\n",
       "      <td>183.000000</td>\n",
       "      <td>183.000000</td>\n",
       "    </tr>\n",
       "    <tr>\n",
       "      <th>mean</th>\n",
       "      <td>455.366120</td>\n",
       "      <td>0.672131</td>\n",
       "      <td>1.191257</td>\n",
       "      <td>35.674426</td>\n",
       "      <td>0.464481</td>\n",
       "      <td>0.475410</td>\n",
       "      <td>78.682469</td>\n",
       "    </tr>\n",
       "    <tr>\n",
       "      <th>std</th>\n",
       "      <td>247.052476</td>\n",
       "      <td>0.470725</td>\n",
       "      <td>0.515187</td>\n",
       "      <td>15.643866</td>\n",
       "      <td>0.644159</td>\n",
       "      <td>0.754617</td>\n",
       "      <td>76.347843</td>\n",
       "    </tr>\n",
       "    <tr>\n",
       "      <th>min</th>\n",
       "      <td>2.000000</td>\n",
       "      <td>0.000000</td>\n",
       "      <td>1.000000</td>\n",
       "      <td>0.920000</td>\n",
       "      <td>0.000000</td>\n",
       "      <td>0.000000</td>\n",
       "      <td>0.000000</td>\n",
       "    </tr>\n",
       "    <tr>\n",
       "      <th>25%</th>\n",
       "      <td>263.500000</td>\n",
       "      <td>0.000000</td>\n",
       "      <td>1.000000</td>\n",
       "      <td>24.000000</td>\n",
       "      <td>0.000000</td>\n",
       "      <td>0.000000</td>\n",
       "      <td>29.700000</td>\n",
       "    </tr>\n",
       "    <tr>\n",
       "      <th>50%</th>\n",
       "      <td>457.000000</td>\n",
       "      <td>1.000000</td>\n",
       "      <td>1.000000</td>\n",
       "      <td>36.000000</td>\n",
       "      <td>0.000000</td>\n",
       "      <td>0.000000</td>\n",
       "      <td>57.000000</td>\n",
       "    </tr>\n",
       "    <tr>\n",
       "      <th>75%</th>\n",
       "      <td>676.000000</td>\n",
       "      <td>1.000000</td>\n",
       "      <td>1.000000</td>\n",
       "      <td>47.500000</td>\n",
       "      <td>1.000000</td>\n",
       "      <td>1.000000</td>\n",
       "      <td>90.000000</td>\n",
       "    </tr>\n",
       "    <tr>\n",
       "      <th>max</th>\n",
       "      <td>890.000000</td>\n",
       "      <td>1.000000</td>\n",
       "      <td>3.000000</td>\n",
       "      <td>80.000000</td>\n",
       "      <td>3.000000</td>\n",
       "      <td>4.000000</td>\n",
       "      <td>512.329200</td>\n",
       "    </tr>\n",
       "  </tbody>\n",
       "</table>\n",
       "</div>"
      ],
      "text/plain": [
       "       PassengerId    Survived      Pclass         Age       SibSp  \\\n",
       "count   183.000000  183.000000  183.000000  183.000000  183.000000   \n",
       "mean    455.366120    0.672131    1.191257   35.674426    0.464481   \n",
       "std     247.052476    0.470725    0.515187   15.643866    0.644159   \n",
       "min       2.000000    0.000000    1.000000    0.920000    0.000000   \n",
       "25%     263.500000    0.000000    1.000000   24.000000    0.000000   \n",
       "50%     457.000000    1.000000    1.000000   36.000000    0.000000   \n",
       "75%     676.000000    1.000000    1.000000   47.500000    1.000000   \n",
       "max     890.000000    1.000000    3.000000   80.000000    3.000000   \n",
       "\n",
       "            Parch        Fare  \n",
       "count  183.000000  183.000000  \n",
       "mean     0.475410   78.682469  \n",
       "std      0.754617   76.347843  \n",
       "min      0.000000    0.000000  \n",
       "25%      0.000000   29.700000  \n",
       "50%      0.000000   57.000000  \n",
       "75%      1.000000   90.000000  \n",
       "max      4.000000  512.329200  "
      ]
     },
     "execution_count": 5,
     "metadata": {},
     "output_type": "execute_result"
    }
   ],
   "source": [
    "## Summary Statistics\n",
    "\n",
    "train.dropna().describe()"
   ]
  },
  {
   "cell_type": "markdown",
   "metadata": {},
   "source": [
    "In order to plot the data we have to factorize them into numbers for python."
   ]
  },
  {
   "cell_type": "code",
   "execution_count": 6,
   "metadata": {
    "collapsed": false
   },
   "outputs": [],
   "source": [
    "embarked_values = pd.factorize(train['Embarked'])\n",
    "\n",
    "train['Embarked_value'] = embarked_values[0]"
   ]
  },
  {
   "cell_type": "code",
   "execution_count": 7,
   "metadata": {
    "collapsed": false
   },
   "outputs": [
    {
     "data": {
      "text/plain": [
       "<matplotlib.axes._subplots.AxesSubplot at 0x10f807b00>"
      ]
     },
     "execution_count": 7,
     "metadata": {},
     "output_type": "execute_result"
    },
    {
     "data": {
      "image/png": "[encoded data removed]",
      "text/plain": [
       "<matplotlib.figure.Figure at 0x10f7acdd8>"
      ]
     },
     "metadata": {},
     "output_type": "display_data"
    }
   ],
   "source": [
    "%matplotlib inline\n",
    "\n",
    "sns.countplot(x = \"Embarked\", hue=\"Survived\", data = train)"
   ]
  },
  {
   "cell_type": "markdown",
   "metadata": {},
   "source": [
    "We can also see an effect on survived by other factors as well."
   ]
  },
  {
   "cell_type": "code",
   "execution_count": 8,
   "metadata": {
    "collapsed": false,
    "scrolled": true
   },
   "outputs": [
    {
     "data": {
      "text/plain": [
       "<matplotlib.axes._subplots.AxesSubplot at 0x112bf8898>"
      ]
     },
     "execution_count": 8,
     "metadata": {},
     "output_type": "execute_result"
    },
    {
     "data": {
      "image/png": "[encoded data removed]",
      "text/plain": [
       "<matplotlib.figure.Figure at 0x10f807a90>"
      ]
     },
     "metadata": {},
     "output_type": "display_data"
    }
   ],
   "source": [
    "sns.countplot(x = \"Sex\", hue = \"Survived\", data = train)"
   ]
  },
  {
   "cell_type": "markdown",
   "metadata": {
    "collapsed": true
   },
   "source": [
    "   ## Dummify categoricals"
   ]
  },
  {
   "cell_type": "markdown",
   "metadata": {},
   "source": [
    "We can also split the fares into 4 quantiles to help categorize people"
   ]
  },
  {
   "cell_type": "code",
   "execution_count": 9,
   "metadata": {
    "collapsed": false
   },
   "outputs": [],
   "source": [
    "fares = pd.qcut(unsplit_data['Fare'],4, labels=[0,1,2,3])\n",
    "\n",
    "# fares.tolist().count(0)\n",
    "# 323, 328, 320, 337"
   ]
  },
  {
   "cell_type": "markdown",
   "metadata": {},
   "source": [
    "We need to create dummy variables in order to run scikit learn functions"
   ]
  },
  {
   "cell_type": "code",
   "execution_count": 10,
   "metadata": {
    "collapsed": false
   },
   "outputs": [],
   "source": [
    "Fares = pd.get_dummies(fares, prefix = \"Fare\")\n",
    "Embarked = pd.get_dummies(unsplit_data['Embarked'], prefix = \"Embarked\")\n",
    "Pclass = pd.get_dummies(unsplit_data['Pclass'], prefix = \"Pclass\")\n",
    "Sex = pd.Series(np.where(unsplit_data['Sex'] == 'male', 1, 0), name = \"Sex\")"
   ]
  },
  {
   "cell_type": "markdown",
   "metadata": {},
   "source": [
    "Then we can join all our dummified data and current data together"
   ]
  },
  {
   "cell_type": "code",
   "execution_count": 11,
   "metadata": {
    "collapsed": true
   },
   "outputs": [],
   "source": [
    "unsplit_dummied = pd.concat([Pclass, Sex, Embarked, Fares, unsplit_data[['Age','Parch','PassengerId','SibSp','Survived','Fare']]], axis = 1)"
   ]
  },
  {
   "cell_type": "code",
   "execution_count": null,
   "metadata": {
    "collapsed": true
   },
   "outputs": [],
   "source": []
  },
  {
   "cell_type": "markdown",
   "metadata": {},
   "source": [
    "\n",
    "\n",
    "\n"
   ]
  },
  {
   "cell_type": "markdown",
   "metadata": {},
   "source": [
    "## Feature Engineering"
   ]
  },
  {
   "cell_type": "markdown",
   "metadata": {},
   "source": [
    "We can take some less than clean data and create features we can use"
   ]
  },
  {
   "cell_type": "markdown",
   "metadata": {},
   "source": [
    "#### Societal Status"
   ]
  },
  {
   "cell_type": "code",
   "execution_count": 12,
   "metadata": {
    "collapsed": false
   },
   "outputs": [],
   "source": [
    "titles = unsplit_data['Name'].str.extract('([A-z]+)\\.', expand = False)"
   ]
  },
  {
   "cell_type": "code",
   "execution_count": 13,
   "metadata": {
    "collapsed": false
   },
   "outputs": [
    {
     "data": {
      "text/plain": [
       "{'Capt',\n",
       " 'Col',\n",
       " 'Countess',\n",
       " 'Don',\n",
       " 'Dona',\n",
       " 'Dr',\n",
       " 'Jonkheer',\n",
       " 'Lady',\n",
       " 'Major',\n",
       " 'Master',\n",
       " 'Miss',\n",
       " 'Mlle',\n",
       " 'Mme',\n",
       " 'Mr',\n",
       " 'Mrs',\n",
       " 'Ms',\n",
       " 'Rev',\n",
       " 'Sir'}"
      ]
     },
     "execution_count": 13,
     "metadata": {},
     "output_type": "execute_result"
    }
   ],
   "source": [
    "set(titles)"
   ]
  },
  {
   "cell_type": "code",
   "execution_count": 14,
   "metadata": {
    "collapsed": false
   },
   "outputs": [],
   "source": [
    "title_map = {}\n",
    "\n",
    "groupings = [\"Millitary\",\"Royalty\",\"Professional\",\"Regular\"]\n",
    "titles_grouped = [\n",
    "    [\"Capt\", \"Col\", \"Major\",], \n",
    "    ['Jonkheer', 'Don', \"Sir\", \"Countess\", \"Dona\",\"Lady\"],\n",
    "    ['Dr', 'Rev'],\n",
    "    ['Mme', 'Mlle', 'Ms', \"Mr\", \"Mrs\", \"Miss\", \"Master\"]]"
   ]
  },
  {
   "cell_type": "markdown",
   "metadata": {},
   "source": [
    "The following code creates a key-value set that assigns each title a grouping"
   ]
  },
  {
   "cell_type": "code",
   "execution_count": 15,
   "metadata": {
    "collapsed": false
   },
   "outputs": [],
   "source": [
    "for grouping, grouped_title in zip(groupings,titles_grouped):\n",
    "    for title in grouped_title:\n",
    "        title_map[title] = grouping"
   ]
  },
  {
   "cell_type": "markdown",
   "metadata": {},
   "source": [
    "We can now go through the data and map the grouping for each row of data"
   ]
  },
  {
   "cell_type": "code",
   "execution_count": 16,
   "metadata": {
    "collapsed": false
   },
   "outputs": [],
   "source": [
    "unsplit_data[\"Society\"] = titles.map(title_map)"
   ]
  },
  {
   "cell_type": "markdown",
   "metadata": {},
   "source": [
    "Now that we've created the feature (column), we can add it to the data"
   ]
  },
  {
   "cell_type": "code",
   "execution_count": 17,
   "metadata": {
    "collapsed": false
   },
   "outputs": [],
   "source": [
    "Society = pd.get_dummies(unsplit_data.Society, prefix=\"Society\")"
   ]
  },
  {
   "cell_type": "code",
   "execution_count": 18,
   "metadata": {
    "collapsed": false,
    "scrolled": true
   },
   "outputs": [],
   "source": [
    "unsplit_dummied = pd.concat([unsplit_dummied, Society], axis = 1)"
   ]
  },
  {
   "cell_type": "markdown",
   "metadata": {},
   "source": [
    "#### Cabin Class"
   ]
  },
  {
   "cell_type": "code",
   "execution_count": 19,
   "metadata": {
    "collapsed": false
   },
   "outputs": [],
   "source": [
    "Cabin_types = unsplit_data.Cabin.str.extract('([A-z]*)[0-9]*', expand = False)\n",
    "Cabin_types = Cabin_types.fillna('Unk')"
   ]
  },
  {
   "cell_type": "code",
   "execution_count": 20,
   "metadata": {
    "collapsed": false
   },
   "outputs": [],
   "source": [
    "Cabin_types = pd.get_dummies(Cabin_types, prefix=\"Cabin_group\")"
   ]
  },
  {
   "cell_type": "code",
   "execution_count": 21,
   "metadata": {
    "collapsed": false
   },
   "outputs": [],
   "source": [
    "unsplit_dummied = pd.concat([unsplit_dummied, Cabin_types], axis = 1)"
   ]
  },
  {
   "cell_type": "markdown",
   "metadata": {},
   "source": [
    "Cabin Class is actually better defined as deck levels as we can find here. Sadly we're missing so much data in the data set we can't figure out where people were staying left-right and forward-back. But if you wanted to extract them you could use this regex.\n",
    "\n",
    "https://www.encyclopedia-titanica.org/titanic-deckplans/c-deck.html"
   ]
  },
  {
   "cell_type": "code",
   "execution_count": 22,
   "metadata": {
    "collapsed": false
   },
   "outputs": [],
   "source": [
    "# raw_location = unsplit_data.Cabin.str.extract('[A-z]*([0-9]*)', expand = False)"
   ]
  },
  {
   "cell_type": "markdown",
   "metadata": {},
   "source": [
    "#### Age"
   ]
  },
  {
   "cell_type": "markdown",
   "metadata": {},
   "source": [
    "Let's try to impute the missing ages. We'll try linear regression, SVR, and kNN but they're pretty bad at it. I've left the last one - kNN to show how poorly they have been. I decided to stick with just doing the median age."
   ]
  },
  {
   "cell_type": "code",
   "execution_count": 23,
   "metadata": {
    "collapsed": false
   },
   "outputs": [],
   "source": [
    "# This just grabs all the categories we want to try to use to predict age. \n",
    "# We need this because we dummified the categorical variables\n",
    "categories_to_predict = [col for col in unsplit_dummied.columns if 'Pclass' in col or 'Sex' in col or 'Age' in col]\n"
   ]
  },
  {
   "cell_type": "code",
   "execution_count": 24,
   "metadata": {
    "collapsed": false
   },
   "outputs": [],
   "source": [
    "# Take the rows with age data only. I know, I know we're using test data too \n",
    "# but we're not trying to fill in survival but impute data.\n",
    "\n",
    "# train data\n",
    "data_with_ages = unsplit_dummied[categories_to_predict].dropna()"
   ]
  },
  {
   "cell_type": "code",
   "execution_count": 51,
   "metadata": {
    "collapsed": false,
    "scrolled": false
   },
   "outputs": [],
   "source": [
    "# Create the data whom's age we need to impute\n",
    "\n",
    "# test data\n",
    "na_ages_unfiltered = unsplit_dummied[unsplit_dummied['Age'].isnull()]\n",
    "na_ages = na_ages_unfiltered[categories_to_predict]"
   ]
  },
  {
   "cell_type": "code",
   "execution_count": 52,
   "metadata": {
    "collapsed": false
   },
   "outputs": [
    {
     "data": {
      "text/plain": [
       "KNeighborsClassifier(algorithm='auto', leaf_size=30, metric='minkowski',\n",
       "           metric_params=None, n_jobs=1, n_neighbors=5, p=2,\n",
       "           weights='uniform')"
      ]
     },
     "execution_count": 52,
     "metadata": {},
     "output_type": "execute_result"
    }
   ],
   "source": [
    "# Fit out classifier\n",
    "age_guess = KNeighborsClassifier()\n",
    "age_guess.fit(data_with_ages.drop('Age', axis=1), np.round (np.ravel(data_with_ages[['Age']])) )"
   ]
  },
  {
   "cell_type": "code",
   "execution_count": 56,
   "metadata": {
    "collapsed": false
   },
   "outputs": [],
   "source": [
    "# Comparing our predictions of training data\n",
    "preds = pd.Series(np.round(age_guess.predict(data_with_ages.drop('Age', axis = 1))))\n"
   ]
  },
  {
   "cell_type": "code",
   "execution_count": 60,
   "metadata": {
    "collapsed": false
   },
   "outputs": [
    {
     "data": {
      "text/plain": [
       "17.913642447418738"
      ]
     },
     "execution_count": 60,
     "metadata": {},
     "output_type": "execute_result"
    }
   ],
   "source": [
    "# How off are we on average. Not a great answer.\n",
    "np.mean(np.array(data_with_ages[['Age']]) - np.array(preds))"
   ]
  },
  {
   "cell_type": "code",
   "execution_count": 89,
   "metadata": {
    "collapsed": false,
    "scrolled": false
   },
   "outputs": [
    {
     "data": {
      "text/plain": [
       "28.0"
      ]
     },
     "execution_count": 89,
     "metadata": {},
     "output_type": "execute_result"
    }
   ],
   "source": [
    "# We have the median age but we'll not add it now\n",
    "\n",
    "data_with_ages['Age'].median()"
   ]
  },
  {
   "cell_type": "markdown",
   "metadata": {},
   "source": [
    "#### Ticket Info"
   ]
  },
  {
   "cell_type": "markdown",
   "metadata": {},
   "source": [
    "The ticket info is a mess, almost as if they didn't have data scientists from the future in mind. So we first cleave out parts of the data and abstract ticket info to something reasonable. "
   ]
  },
  {
   "cell_type": "code",
   "execution_count": 73,
   "metadata": {
    "collapsed": false,
    "scrolled": true
   },
   "outputs": [],
   "source": [
    "store = unsplit_data.Ticket.str.extract('(.*) ', expand = False)\n",
    "store = store.fillna('Unk')"
   ]
  },
  {
   "cell_type": "code",
   "execution_count": 74,
   "metadata": {
    "collapsed": false,
    "scrolled": true
   },
   "outputs": [],
   "source": [
    "raw_ticket = store.map(lambda x: x.upper().replace('/',\"\").replace('.','') )"
   ]
  },
  {
   "cell_type": "code",
   "execution_count": 75,
   "metadata": {
    "collapsed": false,
    "scrolled": true
   },
   "outputs": [
    {
     "data": {
      "text/plain": [
       "Ticket\n",
       "A           39\n",
       "AQ           2\n",
       "AS           1\n",
       "C            8\n",
       "CA          68\n",
       "CASOTON      1\n",
       "FA           1\n",
       "FC           3\n",
       "FCC          9\n",
       "LP           1\n",
       "PC          92\n",
       "PP           4\n",
       "PPP          2\n",
       "SC           2\n",
       "SCA          3\n",
       "SCAH         5\n",
       "SCOW         1\n",
       "SCPARIS     19\n",
       "SOC          8\n",
       "SOP          1\n",
       "SOPP         7\n",
       "SOTONO       3\n",
       "SOTONOQ     24\n",
       "SP           1\n",
       "STONO       21\n",
       "STONOQ       1\n",
       "SWPP         2\n",
       "UNK        961\n",
       "WC          15\n",
       "WEP          4\n",
       "Name: Ticket, dtype: int64"
      ]
     },
     "execution_count": 75,
     "metadata": {},
     "output_type": "execute_result"
    }
   ],
   "source": [
    "cleaned_ticket = raw_ticket.str.extract('([A-z]*)', expand=False)\n",
    "cleaned_ticket.groupby(cleaned_ticket).count()"
   ]
  },
  {
   "cell_type": "code",
   "execution_count": 81,
   "metadata": {
    "collapsed": false,
    "scrolled": true
   },
   "outputs": [],
   "source": [
    "ticket_dummies = pd.get_dummies(cleaned_ticket)"
   ]
  },
  {
   "cell_type": "code",
   "execution_count": 82,
   "metadata": {
    "collapsed": true
   },
   "outputs": [],
   "source": [
    "unsplit_dummied = pd.concat([unsplit_dummied, ticket_dummies], axis = 1)"
   ]
  },
  {
   "cell_type": "markdown",
   "metadata": {},
   "source": [
    "#### Family Size"
   ]
  },
  {
   "cell_type": "markdown",
   "metadata": {},
   "source": [
    "Is the size of your family something that affected your survival? Maybe that empathy affected you or maybe it helped. "
   ]
  },
  {
   "cell_type": "code",
   "execution_count": 76,
   "metadata": {
    "collapsed": true
   },
   "outputs": [],
   "source": [
    "Family_count = unsplit_data['Parch'] + unsplit_data['SibSp']"
   ]
  },
  {
   "cell_type": "code",
   "execution_count": 77,
   "metadata": {
    "collapsed": false
   },
   "outputs": [],
   "source": [
    "def fam_size(x):\n",
    "    if x == 0:\n",
    "        return(\"Alone\")\n",
    "    elif 1<=x<=4:\n",
    "        return(\"Normal\")\n",
    "    else:\n",
    "        return(\"Large\")\n",
    "\n",
    "Family_count = Family_count.map(fam_size)"
   ]
  },
  {
   "cell_type": "code",
   "execution_count": 78,
   "metadata": {
    "collapsed": false
   },
   "outputs": [],
   "source": [
    "Fam_dummied = pd.get_dummies(Family_count, prefix=\"Family\")"
   ]
  },
  {
   "cell_type": "code",
   "execution_count": 79,
   "metadata": {
    "collapsed": true
   },
   "outputs": [],
   "source": [
    "unsplit_dummied = pd.concat([unsplit_dummied, Fam_dummied], axis=1)"
   ]
  },
  {
   "cell_type": "code",
   "execution_count": 109,
   "metadata": {
    "collapsed": false
   },
   "outputs": [],
   "source": [
    "unsplit_dummied = unsplit_dummied.drop('Fare', axis = 1)"
   ]
  },
  {
   "cell_type": "markdown",
   "metadata": {},
   "source": [
    "   ## Transform train and test equally"
   ]
  },
  {
   "cell_type": "markdown",
   "metadata": {},
   "source": [
    "We've done the feature creation that we want, now we have to split the data up again into test and train."
   ]
  },
  {
   "cell_type": "code",
   "execution_count": 111,
   "metadata": {
    "collapsed": false
   },
   "outputs": [],
   "source": [
    "# First we find the indicies of the test data\n",
    "# Then we get all the indicies\n",
    "# Finally we remove the test data indicies\n",
    "\n",
    "test_indicies = np.where(unsplit_dummied['Survived'].isnull())[0]\n",
    "\n",
    "train_indicies = list(range(len(unsplit_data))) \n",
    "\n",
    "train_indicies = np.delete(train_indicies, test_indicies)"
   ]
  },
  {
   "cell_type": "code",
   "execution_count": 112,
   "metadata": {
    "collapsed": false
   },
   "outputs": [],
   "source": [
    "# This splits the data into the test and train sets \n",
    "\n",
    "new_train = unsplit_dummied.iloc[train_indicies]\n",
    "new_test = unsplit_dummied.iloc[test_indicies]"
   ]
  },
  {
   "cell_type": "code",
   "execution_count": 113,
   "metadata": {
    "collapsed": false
   },
   "outputs": [],
   "source": [
    "## Separate data in explanatory (X) and response (y)\n",
    "\n",
    "y_train = new_train['Survived']\n",
    "X_train = new_train.drop('Survived', axis=1)\n",
    "\n",
    "X_test = new_test.drop('Survived', axis=1)"
   ]
  },
  {
   "cell_type": "code",
   "execution_count": 114,
   "metadata": {
    "collapsed": false
   },
   "outputs": [
    {
     "data": {
      "text/plain": [
       "Pclass_1                  0\n",
       "Pclass_2                  0\n",
       "Pclass_3                  0\n",
       "Sex                       0\n",
       "Embarked_C                0\n",
       "Embarked_Q                0\n",
       "Embarked_S                0\n",
       "Fare_0                    0\n",
       "Fare_1                    0\n",
       "Fare_2                    0\n",
       "Fare_3                    0\n",
       "Age                     177\n",
       "Parch                     0\n",
       "PassengerId               0\n",
       "SibSp                     0\n",
       "Society_Millitary         0\n",
       "Society_Professional      0\n",
       "Society_Regular           0\n",
       "Society_Royalty           0\n",
       "Cabin_group_A             0\n",
       "Cabin_group_B             0\n",
       "Cabin_group_C             0\n",
       "Cabin_group_D             0\n",
       "Cabin_group_E             0\n",
       "Cabin_group_F             0\n",
       "Cabin_group_G             0\n",
       "Cabin_group_T             0\n",
       "Cabin_group_Unk           0\n",
       "Family_Alone              0\n",
       "Family_Large              0\n",
       "                       ... \n",
       "A                         0\n",
       "AQ                        0\n",
       "AS                        0\n",
       "C                         0\n",
       "CA                        0\n",
       "CASOTON                   0\n",
       "FA                        0\n",
       "FC                        0\n",
       "FCC                       0\n",
       "LP                        0\n",
       "PC                        0\n",
       "PP                        0\n",
       "PPP                       0\n",
       "SC                        0\n",
       "SCA                       0\n",
       "SCAH                      0\n",
       "SCOW                      0\n",
       "SCPARIS                   0\n",
       "SOC                       0\n",
       "SOP                       0\n",
       "SOPP                      0\n",
       "SOTONO                    0\n",
       "SOTONOQ                   0\n",
       "SP                        0\n",
       "STONO                     0\n",
       "STONOQ                    0\n",
       "SWPP                      0\n",
       "UNK                       0\n",
       "WC                        0\n",
       "WEP                       0\n",
       "dtype: int64"
      ]
     },
     "execution_count": 114,
     "metadata": {},
     "output_type": "execute_result"
    }
   ],
   "source": [
    "# We still have the age column to fill in with the median.\n",
    "\n",
    "X_train.isnull().sum()"
   ]
  },
  {
   "cell_type": "code",
   "execution_count": 115,
   "metadata": {
    "collapsed": false
   },
   "outputs": [],
   "source": [
    "X_train['Age'] = X_train.fillna( X_train.Age.median())\n",
    "\n",
    "X_test['Age'] = X_test.fillna( X_test.Age.median())"
   ]
  },
  {
   "cell_type": "markdown",
   "metadata": {},
   "source": [
    "## Feature Selection"
   ]
  },
  {
   "cell_type": "markdown",
   "metadata": {},
   "source": [
    "We made quite a few features now. But having so many features can make our classifiers work more poorly. So to do so we're going to do some feature selection as well."
   ]
  },
  {
   "cell_type": "code",
   "execution_count": 116,
   "metadata": {
    "collapsed": false
   },
   "outputs": [],
   "source": [
    "# In order to pick which features are important we have to fit some classifier.\n",
    "# I picked the ExtraTrees one\n",
    "\n",
    "clf = ExtraTreesClassifier(n_estimators=200)\n",
    "clf = clf.fit(X_train, y_train)"
   ]
  },
  {
   "cell_type": "code",
   "execution_count": 117,
   "metadata": {
    "collapsed": false
   },
   "outputs": [],
   "source": [
    "# This records the importance of every feature\n",
    "\n",
    "fet_sel = pd.DataFrame()\n",
    "fet_sel['feature'] = X_train.columns\n",
    "fet_sel['importance'] = clf.feature_importances_"
   ]
  },
  {
   "cell_type": "code",
   "execution_count": 118,
   "metadata": {
    "collapsed": false
   },
   "outputs": [
    {
     "name": "stderr",
     "output_type": "stream",
     "text": [
      "/Users/sahir/anaconda/lib/python3.5/site-packages/ipykernel/__main__.py:3: FutureWarning: sort(columns=....) is deprecated, use sort_values(by=.....)\n",
      "  app.launch_new_instance()\n"
     ]
    },
    {
     "data": {
      "text/html": [
       "<div>\n",
       "<table border=\"1\" class=\"dataframe\">\n",
       "  <thead>\n",
       "    <tr style=\"text-align: right;\">\n",
       "      <th></th>\n",
       "      <th>feature</th>\n",
       "      <th>importance</th>\n",
       "    </tr>\n",
       "  </thead>\n",
       "  <tbody>\n",
       "    <tr>\n",
       "      <th>13</th>\n",
       "      <td>PassengerId</td>\n",
       "      <td>0.316754</td>\n",
       "    </tr>\n",
       "    <tr>\n",
       "      <th>3</th>\n",
       "      <td>Sex</td>\n",
       "      <td>0.234978</td>\n",
       "    </tr>\n",
       "    <tr>\n",
       "      <th>12</th>\n",
       "      <td>Parch</td>\n",
       "      <td>0.041617</td>\n",
       "    </tr>\n",
       "    <tr>\n",
       "      <th>27</th>\n",
       "      <td>Cabin_group_Unk</td>\n",
       "      <td>0.032812</td>\n",
       "    </tr>\n",
       "    <tr>\n",
       "      <th>2</th>\n",
       "      <td>Pclass_3</td>\n",
       "      <td>0.032397</td>\n",
       "    </tr>\n",
       "    <tr>\n",
       "      <th>14</th>\n",
       "      <td>SibSp</td>\n",
       "      <td>0.031295</td>\n",
       "    </tr>\n",
       "    <tr>\n",
       "      <th>30</th>\n",
       "      <td>Family_Normal</td>\n",
       "      <td>0.019737</td>\n",
       "    </tr>\n",
       "    <tr>\n",
       "      <th>10</th>\n",
       "      <td>Fare_3</td>\n",
       "      <td>0.018467</td>\n",
       "    </tr>\n",
       "    <tr>\n",
       "      <th>11</th>\n",
       "      <td>Age</td>\n",
       "      <td>0.017723</td>\n",
       "    </tr>\n",
       "    <tr>\n",
       "      <th>0</th>\n",
       "      <td>Pclass_1</td>\n",
       "      <td>0.017593</td>\n",
       "    </tr>\n",
       "    <tr>\n",
       "      <th>58</th>\n",
       "      <td>UNK</td>\n",
       "      <td>0.017432</td>\n",
       "    </tr>\n",
       "    <tr>\n",
       "      <th>9</th>\n",
       "      <td>Fare_2</td>\n",
       "      <td>0.017059</td>\n",
       "    </tr>\n",
       "    <tr>\n",
       "      <th>7</th>\n",
       "      <td>Fare_0</td>\n",
       "      <td>0.016985</td>\n",
       "    </tr>\n",
       "    <tr>\n",
       "      <th>1</th>\n",
       "      <td>Pclass_2</td>\n",
       "      <td>0.016650</td>\n",
       "    </tr>\n",
       "    <tr>\n",
       "      <th>6</th>\n",
       "      <td>Embarked_S</td>\n",
       "      <td>0.016173</td>\n",
       "    </tr>\n",
       "    <tr>\n",
       "      <th>28</th>\n",
       "      <td>Family_Alone</td>\n",
       "      <td>0.013879</td>\n",
       "    </tr>\n",
       "    <tr>\n",
       "      <th>4</th>\n",
       "      <td>Embarked_C</td>\n",
       "      <td>0.013418</td>\n",
       "    </tr>\n",
       "    <tr>\n",
       "      <th>8</th>\n",
       "      <td>Fare_1</td>\n",
       "      <td>0.010966</td>\n",
       "    </tr>\n",
       "    <tr>\n",
       "      <th>23</th>\n",
       "      <td>Cabin_group_E</td>\n",
       "      <td>0.008009</td>\n",
       "    </tr>\n",
       "    <tr>\n",
       "      <th>35</th>\n",
       "      <td>CA</td>\n",
       "      <td>0.007471</td>\n",
       "    </tr>\n",
       "    <tr>\n",
       "      <th>5</th>\n",
       "      <td>Embarked_Q</td>\n",
       "      <td>0.007159</td>\n",
       "    </tr>\n",
       "    <tr>\n",
       "      <th>20</th>\n",
       "      <td>Cabin_group_B</td>\n",
       "      <td>0.006962</td>\n",
       "    </tr>\n",
       "    <tr>\n",
       "      <th>55</th>\n",
       "      <td>STONO</td>\n",
       "      <td>0.006948</td>\n",
       "    </tr>\n",
       "    <tr>\n",
       "      <th>29</th>\n",
       "      <td>Family_Large</td>\n",
       "      <td>0.006865</td>\n",
       "    </tr>\n",
       "    <tr>\n",
       "      <th>41</th>\n",
       "      <td>PC</td>\n",
       "      <td>0.006820</td>\n",
       "    </tr>\n",
       "    <tr>\n",
       "      <th>21</th>\n",
       "      <td>Cabin_group_C</td>\n",
       "      <td>0.006609</td>\n",
       "    </tr>\n",
       "    <tr>\n",
       "      <th>22</th>\n",
       "      <td>Cabin_group_D</td>\n",
       "      <td>0.006048</td>\n",
       "    </tr>\n",
       "    <tr>\n",
       "      <th>57</th>\n",
       "      <td>SWPP</td>\n",
       "      <td>0.005882</td>\n",
       "    </tr>\n",
       "    <tr>\n",
       "      <th>17</th>\n",
       "      <td>Society_Regular</td>\n",
       "      <td>0.004786</td>\n",
       "    </tr>\n",
       "    <tr>\n",
       "      <th>59</th>\n",
       "      <td>WC</td>\n",
       "      <td>0.004193</td>\n",
       "    </tr>\n",
       "    <tr>\n",
       "      <th>...</th>\n",
       "      <td>...</td>\n",
       "      <td>...</td>\n",
       "    </tr>\n",
       "    <tr>\n",
       "      <th>24</th>\n",
       "      <td>Cabin_group_F</td>\n",
       "      <td>0.003413</td>\n",
       "    </tr>\n",
       "    <tr>\n",
       "      <th>16</th>\n",
       "      <td>Society_Professional</td>\n",
       "      <td>0.003360</td>\n",
       "    </tr>\n",
       "    <tr>\n",
       "      <th>19</th>\n",
       "      <td>Cabin_group_A</td>\n",
       "      <td>0.003088</td>\n",
       "    </tr>\n",
       "    <tr>\n",
       "      <th>15</th>\n",
       "      <td>Society_Millitary</td>\n",
       "      <td>0.002888</td>\n",
       "    </tr>\n",
       "    <tr>\n",
       "      <th>48</th>\n",
       "      <td>SCPARIS</td>\n",
       "      <td>0.002101</td>\n",
       "    </tr>\n",
       "    <tr>\n",
       "      <th>34</th>\n",
       "      <td>C</td>\n",
       "      <td>0.002032</td>\n",
       "    </tr>\n",
       "    <tr>\n",
       "      <th>51</th>\n",
       "      <td>SOPP</td>\n",
       "      <td>0.001976</td>\n",
       "    </tr>\n",
       "    <tr>\n",
       "      <th>39</th>\n",
       "      <td>FCC</td>\n",
       "      <td>0.001909</td>\n",
       "    </tr>\n",
       "    <tr>\n",
       "      <th>49</th>\n",
       "      <td>SOC</td>\n",
       "      <td>0.001899</td>\n",
       "    </tr>\n",
       "    <tr>\n",
       "      <th>53</th>\n",
       "      <td>SOTONOQ</td>\n",
       "      <td>0.001712</td>\n",
       "    </tr>\n",
       "    <tr>\n",
       "      <th>25</th>\n",
       "      <td>Cabin_group_G</td>\n",
       "      <td>0.001585</td>\n",
       "    </tr>\n",
       "    <tr>\n",
       "      <th>38</th>\n",
       "      <td>FC</td>\n",
       "      <td>0.001310</td>\n",
       "    </tr>\n",
       "    <tr>\n",
       "      <th>42</th>\n",
       "      <td>PP</td>\n",
       "      <td>0.001122</td>\n",
       "    </tr>\n",
       "    <tr>\n",
       "      <th>60</th>\n",
       "      <td>WEP</td>\n",
       "      <td>0.001024</td>\n",
       "    </tr>\n",
       "    <tr>\n",
       "      <th>18</th>\n",
       "      <td>Society_Royalty</td>\n",
       "      <td>0.000767</td>\n",
       "    </tr>\n",
       "    <tr>\n",
       "      <th>26</th>\n",
       "      <td>Cabin_group_T</td>\n",
       "      <td>0.000463</td>\n",
       "    </tr>\n",
       "    <tr>\n",
       "      <th>46</th>\n",
       "      <td>SCAH</td>\n",
       "      <td>0.000373</td>\n",
       "    </tr>\n",
       "    <tr>\n",
       "      <th>44</th>\n",
       "      <td>SC</td>\n",
       "      <td>0.000346</td>\n",
       "    </tr>\n",
       "    <tr>\n",
       "      <th>47</th>\n",
       "      <td>SCOW</td>\n",
       "      <td>0.000163</td>\n",
       "    </tr>\n",
       "    <tr>\n",
       "      <th>43</th>\n",
       "      <td>PPP</td>\n",
       "      <td>0.000155</td>\n",
       "    </tr>\n",
       "    <tr>\n",
       "      <th>52</th>\n",
       "      <td>SOTONO</td>\n",
       "      <td>0.000145</td>\n",
       "    </tr>\n",
       "    <tr>\n",
       "      <th>33</th>\n",
       "      <td>AS</td>\n",
       "      <td>0.000120</td>\n",
       "    </tr>\n",
       "    <tr>\n",
       "      <th>54</th>\n",
       "      <td>SP</td>\n",
       "      <td>0.000094</td>\n",
       "    </tr>\n",
       "    <tr>\n",
       "      <th>36</th>\n",
       "      <td>CASOTON</td>\n",
       "      <td>0.000090</td>\n",
       "    </tr>\n",
       "    <tr>\n",
       "      <th>45</th>\n",
       "      <td>SCA</td>\n",
       "      <td>0.000084</td>\n",
       "    </tr>\n",
       "    <tr>\n",
       "      <th>37</th>\n",
       "      <td>FA</td>\n",
       "      <td>0.000056</td>\n",
       "    </tr>\n",
       "    <tr>\n",
       "      <th>50</th>\n",
       "      <td>SOP</td>\n",
       "      <td>0.000028</td>\n",
       "    </tr>\n",
       "    <tr>\n",
       "      <th>56</th>\n",
       "      <td>STONOQ</td>\n",
       "      <td>0.000000</td>\n",
       "    </tr>\n",
       "    <tr>\n",
       "      <th>32</th>\n",
       "      <td>AQ</td>\n",
       "      <td>0.000000</td>\n",
       "    </tr>\n",
       "    <tr>\n",
       "      <th>40</th>\n",
       "      <td>LP</td>\n",
       "      <td>0.000000</td>\n",
       "    </tr>\n",
       "  </tbody>\n",
       "</table>\n",
       "<p>61 rows × 2 columns</p>\n",
       "</div>"
      ],
      "text/plain": [
       "                 feature  importance\n",
       "13           PassengerId    0.316754\n",
       "3                    Sex    0.234978\n",
       "12                 Parch    0.041617\n",
       "27       Cabin_group_Unk    0.032812\n",
       "2               Pclass_3    0.032397\n",
       "14                 SibSp    0.031295\n",
       "30         Family_Normal    0.019737\n",
       "10                Fare_3    0.018467\n",
       "11                   Age    0.017723\n",
       "0               Pclass_1    0.017593\n",
       "58                   UNK    0.017432\n",
       "9                 Fare_2    0.017059\n",
       "7                 Fare_0    0.016985\n",
       "1               Pclass_2    0.016650\n",
       "6             Embarked_S    0.016173\n",
       "28          Family_Alone    0.013879\n",
       "4             Embarked_C    0.013418\n",
       "8                 Fare_1    0.010966\n",
       "23         Cabin_group_E    0.008009\n",
       "35                    CA    0.007471\n",
       "5             Embarked_Q    0.007159\n",
       "20         Cabin_group_B    0.006962\n",
       "55                 STONO    0.006948\n",
       "29          Family_Large    0.006865\n",
       "41                    PC    0.006820\n",
       "21         Cabin_group_C    0.006609\n",
       "22         Cabin_group_D    0.006048\n",
       "57                  SWPP    0.005882\n",
       "17       Society_Regular    0.004786\n",
       "59                    WC    0.004193\n",
       "..                   ...         ...\n",
       "24         Cabin_group_F    0.003413\n",
       "16  Society_Professional    0.003360\n",
       "19         Cabin_group_A    0.003088\n",
       "15     Society_Millitary    0.002888\n",
       "48               SCPARIS    0.002101\n",
       "34                     C    0.002032\n",
       "51                  SOPP    0.001976\n",
       "39                   FCC    0.001909\n",
       "49                   SOC    0.001899\n",
       "53               SOTONOQ    0.001712\n",
       "25         Cabin_group_G    0.001585\n",
       "38                    FC    0.001310\n",
       "42                    PP    0.001122\n",
       "60                   WEP    0.001024\n",
       "18       Society_Royalty    0.000767\n",
       "26         Cabin_group_T    0.000463\n",
       "46                  SCAH    0.000373\n",
       "44                    SC    0.000346\n",
       "47                  SCOW    0.000163\n",
       "43                   PPP    0.000155\n",
       "52                SOTONO    0.000145\n",
       "33                    AS    0.000120\n",
       "54                    SP    0.000094\n",
       "36               CASOTON    0.000090\n",
       "45                   SCA    0.000084\n",
       "37                    FA    0.000056\n",
       "50                   SOP    0.000028\n",
       "56                STONOQ    0.000000\n",
       "32                    AQ    0.000000\n",
       "40                    LP    0.000000\n",
       "\n",
       "[61 rows x 2 columns]"
      ]
     },
     "execution_count": 118,
     "metadata": {},
     "output_type": "execute_result"
    }
   ],
   "source": [
    "# Here we sort them according to level\n",
    "\n",
    "fet_sel.sort(['importance'], ascending=False)"
   ]
  },
  {
   "cell_type": "code",
   "execution_count": 120,
   "metadata": {
    "collapsed": false
   },
   "outputs": [
    {
     "data": {
      "text/plain": [
       "(891, 14)"
      ]
     },
     "execution_count": 120,
     "metadata": {},
     "output_type": "execute_result"
    }
   ],
   "source": [
    "# This takes the classifier we used and picks the features of most use.\n",
    "\n",
    "model = SelectFromModel(clf, prefit=True)\n",
    "X_train_new = model.transform(X_train)\n",
    "X_train_new.shape"
   ]
  },
  {
   "cell_type": "code",
   "execution_count": 121,
   "metadata": {
    "collapsed": false
   },
   "outputs": [
    {
     "data": {
      "text/plain": [
       "(418, 14)"
      ]
     },
     "execution_count": 121,
     "metadata": {},
     "output_type": "execute_result"
    }
   ],
   "source": [
    "X_test_new = model.transform(X_test)\n",
    "X_test_new.shape\n",
    "\n"
   ]
  },
  {
   "cell_type": "markdown",
   "metadata": {},
   "source": [
    "## Models"
   ]
  },
  {
   "cell_type": "markdown",
   "metadata": {},
   "source": [
    "Now we have our dummified data with reduced features to use in our classification."
   ]
  },
  {
   "cell_type": "markdown",
   "metadata": {
    "collapsed": false
   },
   "source": [
    "Decision Tree Classifier"
   ]
  },
  {
   "cell_type": "code",
   "execution_count": 131,
   "metadata": {
    "collapsed": false
   },
   "outputs": [
    {
     "name": "stdout",
     "output_type": "stream",
     "text": [
      "0.805836139169\n"
     ]
    }
   ],
   "source": [
    "DT = DecisionTreeClassifier(max_depth=3)\n",
    "DT.fit(X_train_new, y_train)\n",
    "\n",
    "DT_y_train_pred = DT.predict(X_train_new)\n",
    "DT_y_test_pred = DT.predict(X_test_new)\n",
    "\n",
    "DT_train_acc = np.sum(y_train == DT_y_train_pred)/len(y_train)\n",
    "print(DT_train_acc)"
   ]
  },
  {
   "cell_type": "code",
   "execution_count": 132,
   "metadata": {
    "collapsed": false
   },
   "outputs": [
    {
     "data": {
      "text/plain": [
       "0.78339064805356939"
      ]
     },
     "execution_count": 132,
     "metadata": {},
     "output_type": "execute_result"
    }
   ],
   "source": [
    "np.mean(cross_val_score(DT, X_train_new, y_train, cv = 10))"
   ]
  },
  {
   "cell_type": "markdown",
   "metadata": {},
   "source": [
    "Random Forest Classifier"
   ]
  },
  {
   "cell_type": "code",
   "execution_count": 133,
   "metadata": {
    "collapsed": false
   },
   "outputs": [
    {
     "name": "stdout",
     "output_type": "stream",
     "text": [
      "0.835016835017\n"
     ]
    }
   ],
   "source": [
    "RF = RandomForestClassifier(max_features=\"sqrt\", \n",
    "                            max_depth=5, \n",
    "                            n_estimators=220, \n",
    "                            criterion=\"gini\")\n",
    "\n",
    "RF.fit(X_train_new, y_train)\n",
    "\n",
    "RF_y_train_pred = RF.predict(X_train_new)\n",
    "RF_y_test_pred = RF.predict(X_test_new)\n",
    "\n",
    "RF_train_acc = np.sum(y_train == RF_y_train_pred)/len(y_train)\n",
    "print(RF_train_acc)"
   ]
  },
  {
   "cell_type": "code",
   "execution_count": 134,
   "metadata": {
    "collapsed": false
   },
   "outputs": [
    {
     "data": {
      "text/plain": [
       "0.79128106911814777"
      ]
     },
     "execution_count": 134,
     "metadata": {},
     "output_type": "execute_result"
    }
   ],
   "source": [
    "np.mean(cross_val_score(RF, X_train_new, y_train, cv = 10))"
   ]
  },
  {
   "cell_type": "markdown",
   "metadata": {},
   "source": [
    "AdaBoostClassifier"
   ]
  },
  {
   "cell_type": "code",
   "execution_count": 135,
   "metadata": {
    "collapsed": false
   },
   "outputs": [
    {
     "name": "stdout",
     "output_type": "stream",
     "text": [
      "0.781144781145\n"
     ]
    }
   ],
   "source": [
    "ABC = AdaBoostClassifier(n_estimators=5)\n",
    "ABC.fit(X_train_new, y_train)\n",
    "\n",
    "ABC_y_train_pred = ABC.predict(X_train_new)\n",
    "ABC_y_test_pred = ABC.predict(X_test_new)\n",
    "\n",
    "ABC_train_acc = np.sum(y_train == ABC_y_train_pred)/len(y_train)\n",
    "print(ABC_train_acc)"
   ]
  },
  {
   "cell_type": "code",
   "execution_count": 136,
   "metadata": {
    "collapsed": false
   },
   "outputs": [
    {
     "data": {
      "text/plain": [
       "0.78797242083758934"
      ]
     },
     "execution_count": 136,
     "metadata": {},
     "output_type": "execute_result"
    }
   ],
   "source": [
    "np.mean(cross_val_score(ABC, X_train_new, y_train, cv = 10))"
   ]
  },
  {
   "cell_type": "markdown",
   "metadata": {},
   "source": [
    "Logistic Regression"
   ]
  },
  {
   "cell_type": "code",
   "execution_count": 137,
   "metadata": {
    "collapsed": false
   },
   "outputs": [
    {
     "name": "stdout",
     "output_type": "stream",
     "text": [
      "0.805836139169\n"
     ]
    }
   ],
   "source": [
    "LR = LogisticRegression(C=1e4)\n",
    "LR.fit(X_train_new, y_train)\n",
    "\n",
    "LR_y_train_pred = LR.predict(X_train_new)\n",
    "LR_y_test_pred = LR.predict(X_test_new)\n",
    "\n",
    "LR_train_acc = np.sum(y_train == LR_y_train_pred)/len(y_train)\n",
    "print(LR_train_acc)"
   ]
  },
  {
   "cell_type": "code",
   "execution_count": 138,
   "metadata": {
    "collapsed": false
   },
   "outputs": [
    {
     "data": {
      "text/plain": [
       "0.78120559527862887"
      ]
     },
     "execution_count": 138,
     "metadata": {},
     "output_type": "execute_result"
    }
   ],
   "source": [
    "np.mean(cross_val_score(LR, X_train_new, y_train, cv = 10))"
   ]
  },
  {
   "cell_type": "markdown",
   "metadata": {},
   "source": [
    "ExtraTrees"
   ]
  },
  {
   "cell_type": "code",
   "execution_count": 140,
   "metadata": {
    "collapsed": false
   },
   "outputs": [
    {
     "name": "stdout",
     "output_type": "stream",
     "text": [
      "1.0\n"
     ]
    }
   ],
   "source": [
    "clf = ExtraTreesClassifier(n_estimators=200)\n",
    "clf = clf.fit(X_train_new, y_train)\n",
    "\n",
    "clf_y_train_pred = clf.predict(X_train_new)\n",
    "clf_y_test_pred = clf.predict(X_test_new)\n",
    "\n",
    "clf_train_acc = np.sum(y_train == clf_y_train_pred)/len(y_train)\n",
    "print(clf_train_acc)"
   ]
  },
  {
   "cell_type": "code",
   "execution_count": 141,
   "metadata": {
    "collapsed": false
   },
   "outputs": [
    {
     "data": {
      "text/plain": [
       "0.75306548632391324"
      ]
     },
     "execution_count": 141,
     "metadata": {},
     "output_type": "execute_result"
    }
   ],
   "source": [
    "np.mean(cross_val_score(clf, X_train_new, y_train, cv = 10))"
   ]
  },
  {
   "cell_type": "markdown",
   "metadata": {},
   "source": [
    "## Export Predictions"
   ]
  },
  {
   "cell_type": "code",
   "execution_count": 142,
   "metadata": {
    "collapsed": false
   },
   "outputs": [],
   "source": [
    "output_pred = pd.DataFrame({ 'PassengerID': X_test['PassengerId'], \n",
    "                            'Survived' : RF_y_test_pred.astype(int)\n",
    "                           })\n",
    "\n",
    "output_pred.to_csv( './data/predictions.csv', index = False)"
   ]
  },
  {
   "cell_type": "markdown",
   "metadata": {
    "collapsed": true
   },
   "source": [
    "This gives us a 0.73206 score on kaggle which is not too bad. We can pull up the score into the 0.8's but that requires much more work than reward. "
   ]
  },
  {
   "cell_type": "code",
   "execution_count": null,
   "metadata": {
    "collapsed": true
   },
   "outputs": [],
   "source": []
  }
 ],
 "metadata": {
  "anaconda-cloud": {},
  "kernelspec": {
   "display_name": "Python [conda root]",
   "language": "python",
   "name": "conda-root-py"
  },
  "language_info": {
   "codemirror_mode": {
    "name": "ipython",
    "version": 3
   },
   "file_extension": ".py",
   "mimetype": "text/x-python",
   "name": "python",
   "nbconvert_exporter": "python",
   "pygments_lexer": "ipython3",
   "version": "3.5.2"
  },
  "latex_envs": {
   "bibliofile": "biblio.bib",
   "cite_by": "apalike",
   "current_citInitial": 1,
   "eqLabelWithNumbers": true,
   "eqNumInitial": 0
  }
 },
 "nbformat": 4,
 "nbformat_minor": 2
}
